{
 "cells": [
  {
   "cell_type": "code",
   "execution_count": null,
   "id": "behavioral-standard",
   "metadata": {},
   "outputs": [],
   "source": [
    "#make a csv into html\n",
    "import pandas as pd\n",
    "# Output File (html)(hopefully)\n",
    "output_data_file = \"cities.html\""
   ]
  }
 ],
 "metadata": {
  "kernelspec": {
   "display_name": "Python 3",
   "language": "python",
   "name": "python3"
  },
  "language_info": {
   "codemirror_mode": {
    "name": "ipython",
    "version": 3
   },
   "file_extension": ".py",
   "mimetype": "text/x-python",
   "name": "python",
   "nbconvert_exporter": "python",
   "pygments_lexer": "ipython3",
   "version": "3.6.12"
  }
 },
 "nbformat": 4,
 "nbformat_minor": 5
}
